{
 "cells": [
  {
   "cell_type": "markdown",
   "metadata": {
    "extensions": {
     "jupyter_dashboards": {
      "activeView": "grid_default",
      "views": {
       "grid_default": {
        "col": null,
        "height": 2,
        "hidden": true,
        "row": null,
        "width": 2
       }
      }
     }
    }
   },
   "source": [
    "### Download the tutorial overlay\n",
    "\n",
    "The `ps_gpio_kv260.bit` and `ps_gpio_kv260.hwh` files are in the `ps_gpio` directory local to this folder. \n",
    "The bitstream can be downloaded using the PYNQ `Overlay` class. "
   ]
  },
  {
   "cell_type": "code",
   "execution_count": null,
   "metadata": {
    "extensions": {
     "jupyter_dashboards": {
      "activeView": "grid_default",
      "views": {
       "grid_default": {
        "col": null,
        "height": 2,
        "hidden": true,
        "row": null,
        "width": 2
       }
      }
     }
    },
    "tags": []
   },
   "outputs": [],
   "source": [
    "from pynq import Overlay\n",
    "ps_gpio_design = Overlay(\"./ps_gpio_kv260.bit\")"
   ]
  },
  {
   "cell_type": "markdown",
   "metadata": {
    "extensions": {
     "jupyter_dashboards": {
      "activeView": "grid_default",
      "views": {
       "grid_default": {
        "col": null,
        "height": 2,
        "hidden": true,
        "row": null,
        "width": 2
       }
      }
     }
    }
   },
   "source": [
    "## PYNQ GPIO class\n",
    "\n",
    "The PYNQ GPIO class will be used to access the PS GPIO. "
   ]
  },
  {
   "cell_type": "code",
   "execution_count": null,
   "metadata": {
    "extensions": {
     "jupyter_dashboards": {
      "activeView": "grid_default",
      "views": {
       "grid_default": {
        "col": null,
        "height": 2,
        "hidden": true,
        "row": null,
        "width": 2
       }
      }
     }
    },
    "tags": []
   },
   "outputs": [],
   "source": [
    "from pynq import GPIO\n",
    "from time import sleep\n",
    "from pynq import Overlay\n",
    "ps_gpio_design = Overlay(\"./ps_gpio_kv260.bit\")"
   ]
  },
  {
   "cell_type": "markdown",
   "metadata": {
    "extensions": {
     "jupyter_dashboards": {
      "activeView": "grid_default",
      "views": {
       "grid_default": {
        "col": null,
        "height": 2,
        "hidden": true,
        "row": null,
        "width": 2
       }
      }
     }
    }
   },
   "source": [
    "### GPIO Assignment"
   ]
  },
  {
   "cell_type": "code",
   "execution_count": null,
   "metadata": {
    "extensions": {
     "jupyter_dashboards": {
      "activeView": "grid_default",
      "views": {
       "grid_default": {
        "col": null,
        "height": 2,
        "hidden": true,
        "row": null,
        "width": 2
       }
      }
     }
    }
   },
   "outputs": [],
   "source": [
    "# Define GPIO Inputs\n",
    "emergency_button = GPIO(GPIO.get_gpio_pin(3), 'in')  # Emergency button\n",
    "floor_req_b1 = GPIO(GPIO.get_gpio_pin(7), 'in')  # First bit of the floor request\n",
    "floor_req_b2 = GPIO(GPIO.get_gpio_pin(6), 'in')  # Second bit of the floor request\n",
    "\n",
    "# Define GPIO Outputs\n",
    "motor_up_down = GPIO(GPIO.get_gpio_pin(2), 'out')  # Elevator Up/Down\n",
    "stop_go = GPIO(GPIO.get_gpio_pin(1), 'out')  # Elevator Stop/Go\n",
    "open_close = GPIO(GPIO.get_gpio_pin(5), 'out')  # Elevator Door Open/Close\n",
    "ssd_b1 = GPIO(GPIO.get_gpio_pin(0), 'out')  # SSD bit 1\n",
    "ssd_b2 = GPIO(GPIO.get_gpio_pin(4), 'out')  # SSD bit 2"
   ]
  },
  {
   "cell_type": "markdown",
   "metadata": {},
   "source": [
    "### Variable Assignment"
   ]
  },
  {
   "cell_type": "code",
   "execution_count": null,
   "metadata": {},
   "outputs": [],
   "source": [
    "# Initialize the system\n",
    "ssd_b1.write(0)\n",
    "ssd_b2.write(0)\n",
    "current_floor = 1\n",
    "floor_requests = [False] * 4\n",
    "direction_up = True\n",
    "state = \"IDLE\""
   ]
  },
  {
   "cell_type": "markdown",
   "metadata": {},
   "source": [
    "### Loop Code"
   ]
  },
  {
   "cell_type": "code",
   "execution_count": null,
   "metadata": {
    "extensions": {
     "jupyter_dashboards": {
      "activeView": "grid_default",
      "views": {
       "grid_default": {
        "col": null,
        "height": 2,
        "hidden": true,
        "row": null,
        "width": 2
       }
      }
     }
    }
   },
   "outputs": [],
   "source": [
    "# Function to update the 7-segment display with the current floor number\n",
    "def update_display(floor):\n",
    "    binary = [(0, 0), (0, 1), (1, 0), (1, 1)]\n",
    "    ssd_b1.write(binary[floor-1][0])\n",
    "    ssd_b2.write(binary[floor-1][1])\n",
    "\n",
    "# Function to read floor requests from the GPIO pins and return the requested floor number\n",
    "def read_floor_requests():\n",
    "    request = floor_req_b1.read() * 2 + floor_req_b2.read()\n",
    "    return request + 1  # Floors are 1-indexed\n",
    "\n",
    "# Function to move the elevator to the requested floor\n",
    "def move_to_floor(target_floor):\n",
    "    global current_floor, direction_up\n",
    "\n",
    "    # Determine direction of travel\n",
    "    direction_up = target_floor > current_floor\n",
    "    motor_up_down.write(int(direction_up))\n",
    "    \n",
    "    # Start moving the elevator\n",
    "    while current_floor != target_floor:\n",
    "            if current_floor < target_floor:\n",
    "                motor_up_down.write(1)  # Move up, light LED for up\n",
    "                current_floor += 1\n",
    "            else:\n",
    "                motor_up_down.write(0)  # Move down, light LED for down\n",
    "                current_floor -= 1\n",
    "\n",
    "            stop_go.write(0)  # Start moving, turn off stop LED\n",
    "            update_display(current_floor)  # Update display at each floor\n",
    "            sleep(4)  # Simulate the time to move between floors\n",
    "\n",
    "        # Ensure doors open/close only at the final target floor\n",
    "            if current_floor == target_floor:\n",
    "                state = \"DOOR_OPEN\"\n",
    "\n",
    "            if current_floor == 4:\n",
    "                direction_up = False\n",
    "            elif current_floor == 1:\n",
    "                direction_up = True\n",
    "\n",
    "\n",
    "            # Check for emergency stop\n",
    "            if emergency_button.read():\n",
    "                break\n",
    "    \n",
    "    # Stop the elevator when the target floor is reached\n",
    "    stop_go.write(1)\n",
    "            \n",
    "# Function to handle emergency situations            \n",
    "def handle_emergency():\n",
    "    global current_floor, direction_up, floor_requests, state\n",
    "    # Clear all floor requests\n",
    "    floor_requests = [False] * 4\n",
    "    # If not on the first floor, move to the first floor\n",
    "    if current_floor != 1:\n",
    "        direction_up = False\n",
    "        move_to_floor(1)  # Moving to floor 1 as part of emergency protocol\n",
    "    # Open doors at the first floor\n",
    "    open_doors()\n",
    "    state = \"IDLE\"  # Reset state to IDLE after handling emergency\n",
    "\n",
    "# Function to open the doors, wait for a while, and then close them\n",
    "def open_doors():\n",
    "    open_close.write(1)  # Open doors\n",
    "    sleep(5)  # Wait for people to exit and enter\n",
    "    open_close.write(0)  # Close doors\n",
    "\n",
    "# Main control loop\n",
    "while True:\n",
    "    try:\n",
    "        # Check and handle emergency button press\n",
    "        if emergency_button.read():\n",
    "            state = \"EMERGENCY\"\n",
    "        \n",
    "        # FSM logic based on the current state\n",
    "        if state == \"IDLE\":\n",
    "            # Check for floor requests and transition to MOVING state\n",
    "            requested_floor = read_floor_requests()\n",
    "            if requested_floor > 0:\n",
    "                floor_requests[requested_floor - 1] = True\n",
    "                state = \"MOVING\"\n",
    "                target_floor = requested_floor\n",
    "\n",
    "        elif state == \"MOVING\":\n",
    "            # Move elevator to the target floor and transition to DOOR_OPEN state\n",
    "            move_to_floor(target_floor)\n",
    "            state = \"DOOR_OPEN\"\n",
    "\n",
    "        elif state == \"DOOR_OPEN\":\n",
    "            # Open doors and then transition back to IDLE state\n",
    "            open_doors()\n",
    "            state = \"IDLE\"\n",
    "\n",
    "        elif state == \"EMERGENCY\":\n",
    "            # Handle emergency by moving to floor 1 and then transition to IDLE\n",
    "            handle_emergency()\n",
    "\n",
    "        # A short delay to prevent high CPU utilization in the loop\n",
    "        sleep(0.1)\n",
    "\n",
    "    except Exception as e:\n",
    "        print(f\"Error: {e}\")\n",
    "        # Decide whether to break or continue based on the error handling policy\n",
    "        break"
   ]
  }
 ],
 "metadata": {
  "extensions": {
   "jupyter_dashboards": {
    "activeView": "grid_default",
    "version": 1,
    "views": {
     "grid_default": {
      "cellMargin": 2,
      "defaultCellHeight": 60,
      "maxColumns": 12,
      "name": "grid",
      "type": "grid"
     }
    }
   }
  },
  "kernelspec": {
   "display_name": "Python 3 (ipykernel)",
   "language": "python",
   "name": "python3"
  },
  "language_info": {
   "codemirror_mode": {
    "name": "ipython",
    "version": 3
   },
   "file_extension": ".py",
   "mimetype": "text/x-python",
   "name": "python",
   "nbconvert_exporter": "python",
   "pygments_lexer": "ipython3",
   "version": "3.11.5"
  }
 },
 "nbformat": 4,
 "nbformat_minor": 4
}
